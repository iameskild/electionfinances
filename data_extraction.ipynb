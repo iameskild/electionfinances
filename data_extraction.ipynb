{
 "cells": [
  {
   "cell_type": "markdown",
   "metadata": {},
   "source": [
    "# Obtaining and Cleaning the Data\n",
    "### This notebook contains the steps taken to obtain the raw data either from an excel spreadsheet taken from the FEC website or the OpenFEC API. Data Cleaning steps were also performed in this notebook."
   ]
  },
  {
   "cell_type": "code",
   "execution_count": 1,
   "metadata": {},
   "outputs": [],
   "source": [
    "import requests\n",
    "import json\n",
    "import re\n",
    "import numpy as np\n",
    "import pandas as pd\n",
    "import matplotlib.pyplot as plt\n",
    "import seaborn as sns\n",
    "from math import ceil\n",
    "from ratelimit import limits, sleep_and_retry\n",
    "\n",
    "%matplotlib inline"
   ]
  },
  {
   "cell_type": "code",
   "execution_count": null,
   "metadata": {},
   "outputs": [],
   "source": [
    "myapikey = 'INSERT API KEY HERE'"
   ]
  },
  {
   "cell_type": "code",
   "execution_count": 2,
   "metadata": {},
   "outputs": [],
   "source": [
    "year = 2016\n",
    "one_hour = 3600 # seconds/hour"
   ]
  },
  {
   "cell_type": "code",
   "execution_count": 3,
   "metadata": {},
   "outputs": [],
   "source": [
    "def states_and_districts():\n",
    "# number of Congressional Districts per state after the 2010 census \n",
    "# 2013 was the first year with new districts\n",
    "\n",
    "    return {\n",
    "        'AL':7,\n",
    "        'AK':1,\n",
    "        'AZ':9,\n",
    "        'AR':4,\n",
    "        'CA':53,\n",
    "        'CO':7,\n",
    "        'CT':5,\n",
    "        'DE':1,\n",
    "        'FL':27,\n",
    "        'GA':14,\n",
    "        'HI':2,\n",
    "        'ID':2,\n",
    "        'IL':18,\n",
    "        'IN':9,\n",
    "        'IA':4,\n",
    "        'KS':4,\n",
    "        'KY':6,\n",
    "        'LA':6,\n",
    "        'ME':2,\n",
    "        'MD':8,\n",
    "        'MA':9,\n",
    "        'MI':14,\n",
    "        'MN':8,\n",
    "        'MS':4,\n",
    "        'MO':8,\n",
    "        'MT':1,\n",
    "        'NE':3,\n",
    "        'NV':4,\n",
    "        'NH':2,\n",
    "        'NJ':12,\n",
    "        'NM':3,\n",
    "        'NY':27,\n",
    "        'NC':13,\n",
    "        'ND':1,\n",
    "        'OH':16,\n",
    "        'OK':5,\n",
    "        'OR':5,\n",
    "        'PA':18,\n",
    "        'RI':2,\n",
    "        'SC':7,\n",
    "        'SD':1,\n",
    "        'TN':9,\n",
    "        'TX':36,\n",
    "        'UT':4,\n",
    "        'VT':1,\n",
    "        'VA':11,\n",
    "        'WA':10,\n",
    "        'WV':3,\n",
    "        'WI':8,\n",
    "        'WY':1\n",
    "    }"
   ]
  },
  {
   "cell_type": "code",
   "execution_count": null,
   "metadata": {},
   "outputs": [],
   "source": []
  },
  {
   "cell_type": "markdown",
   "metadata": {},
   "source": [
    "## Obtaining the 2016 House Election Results"
   ]
  },
  {
   "cell_type": "code",
   "execution_count": 5,
   "metadata": {},
   "outputs": [],
   "source": [
    "# House of Reps 2016 Election Results \n",
    "# source: https://transition.fec.gov/pubrec/electionresults.shtml\n",
    "house_results_2016 = pd.read_excel('federalelections2016.xlsx', sheet_name=12)"
   ]
  },
  {
   "cell_type": "code",
   "execution_count": 6,
   "metadata": {},
   "outputs": [],
   "source": [
    "# clean up column names\n",
    "house_results_2016.columns = house_results_2016.columns.str.strip()\\\n",
    "        .str.replace(' ','_').str.upper()\n",
    "\n",
    "# drop first (0-th) column \n",
    "house_results_2016.drop(labels=np.nan, axis=1, inplace=True)\n",
    "\n",
    "# rename columns for increased clarity\n",
    "house_results_2016.rename({'FEC_ID#':'CANDIDATE_ID',\n",
    "                           '(I)':'INCUMBENT'}, axis=1, inplace=True)\n",
    "\n",
    "# remove trailing whitespace in CANDIDATE_ID column - needed in order to properly merge on later\n",
    "house_results_2016.loc[:, 'CANDIDATE_ID'] =\\\n",
    "    house_results_2016.loc[:, 'CANDIDATE_ID'].str.strip()\n",
    "\n",
    "# 1 == incumbent, 0 == otherwise\n",
    "house_results_2016['INCUMBENT'].fillna('0',inplace=True)\n",
    "house_results_2016.loc[:, 'INCUMBENT'] =\\\n",
    "    house_results_2016.loc[:, 'INCUMBENT'].str.replace('(','').str.replace(')','')\\\n",
    "        .str.replace('I','1').astype(int)\n",
    "\n",
    "# 1 == winner, 0 == otherwise\n",
    "house_results_2016['GE_WINNER_INDICATOR'].fillna('0',inplace=True)\n",
    "house_results_2016.loc[:, 'GE_WINNER_INDICATOR'] =\\\n",
    "    house_results_2016.loc[:, 'GE_WINNER_INDICATOR'].str.replace('W','1').astype(int)"
   ]
  },
  {
   "cell_type": "code",
   "execution_count": 7,
   "metadata": {},
   "outputs": [],
   "source": [
    "# drop all Special Election results which coincided with the General Election \n",
    "# HI-01, KY-01, PA-02\n",
    "mask = house_results_2016['D'].str.contains(r'unexpired', flags=re.I, na=False)\n",
    "house_results_2016.drop(house_results_2016[mask].index, inplace=True)\n",
    "\n",
    "# drop the 'FULL TERM' label from 'D' (district) labels\n",
    "# HI-01, KY-01, PA-02\n",
    "mask = house_results_2016['D'].str.contains(r'full term', flags=re.I, na=False)\n",
    "house_results_2016.loc[house_results_2016[mask].index, 'D'] =\\\n",
    "    house_results_2016[mask]['D'].str.replace(' - FULL TERM', '')"
   ]
  },
  {
   "cell_type": "code",
   "execution_count": 8,
   "metadata": {},
   "outputs": [],
   "source": [
    "# Clean up names for the top 10 political parties present in this election cycle\n",
    "# for more information see sheet 13 (0-indexed) of federalelections2016.xlsx\n",
    "\n",
    "# replace variations of 'R' (with extra whitespace) with 'R' == Republican\n",
    "mask = house_results_2016['PARTY'].str.contains(r'R[\\s]+', flags=re.I, na=False)\n",
    "house_results_2016.loc[house_results_2016[mask].index, 'PARTY'] =\\\n",
    "    house_results_2016[mask]['PARTY'].str.replace(r'R[\\s]+', 'R')\n",
    "\n",
    "# replaces variations of 'D' (with extra whitespace) with 'D' == Democratic\n",
    "mask = house_results_2016['PARTY'].str.contains(r'D[\\s]+', flags=re.I, na=False)\n",
    "house_results_2016.loc[house_results_2016[mask].index, 'PARTY'] = \\\n",
    "    house_results_2016[mask]['PARTY'].str.replace(r'D[\\s]+', 'D')\n",
    "\n",
    "# replaces variations of 'W' (with extra whitespace) with 'W' == Write-In\n",
    "mask = house_results_2016['PARTY'].str.contains(r'W[\\s]+', flags=re.I, na=False)\n",
    "house_results_2016.loc[house_results_2016[mask].index, 'PARTY'] = \\\n",
    "    house_results_2016[mask]['PARTY'].str.replace(r'W[\\s]+', 'W')\n",
    "\n",
    "# replaces variations of 'LIB' (with extra whitespace) with 'LIB' == Libertarian\n",
    "mask = house_results_2016['PARTY'].str.contains(r'LIB[\\s]+', flags=re.I, na=False)\n",
    "house_results_2016.loc[house_results_2016[mask].index, 'PARTY'] = \\\n",
    "    house_results_2016[mask]['PARTY'].str.replace(r'LIB[\\s]+', 'LIB')\n",
    "\n",
    "party_mapper = {\n",
    "    'W(R)' : 'R',\n",
    "    'R/W' : 'R',\n",
    "    'R/TRP' : 'R',\n",
    "    'W(R)/R' : 'R',\n",
    "    'R/IP' : 'R',\n",
    "    'IP/R' : 'R',\n",
    "    'R/CON' : 'R',\n",
    "    'W(D)' : 'D',\n",
    "    'W(D)/D' : 'D',\n",
    "    'D/IP' : 'D',\n",
    "    'D/R' : 'D',    # Peter Welch (D)\n",
    "    'D/PRO/WF/IP' : 'D',    # Peter A. DeFazio (D)\n",
    "    'W(D)/W' : 'D',\n",
    "    'W(LIB)' : 'LIB',\n",
    "    'W(GRE)' : 'GRE',\n",
    "    'W(GRE)/GRE' : 'GRE',\n",
    "    'W(IND)' : 'IND',\n",
    "    'W(NOP)' : 'NOP'\n",
    "}\n",
    "\n",
    "# replace party labels for candidates with multiple parties\n",
    "# with standard party designation 'R', 'D', 'LIB', etc.\n",
    "house_results_2016.replace(party_mapper, inplace=True)"
   ]
  },
  {
   "cell_type": "code",
   "execution_count": 9,
   "metadata": {},
   "outputs": [],
   "source": [
    "# replacing all non-digits with the primary votes and general votes columns with NaN \n",
    "# and converting the columns to floats\n",
    "house_results_2016['PRIMARY_VOTES'] = house_results_2016['PRIMARY_VOTES'].astype(str)\n",
    "house_results_2016['GENERAL_VOTES'] = house_results_2016['GENERAL_VOTES'].astype(str)\n",
    "\n",
    "house_results_2016.loc[:, 'PRIMARY_VOTES'] =\\\n",
    "        house_results_2016.loc[:, 'PRIMARY_VOTES']\\\n",
    "            .str.replace('Unopposed', str(np.nan))\\\n",
    "            .str.replace('*', str(np.nan)).astype(float)\n",
    "\n",
    "house_results_2016.loc[:, 'GENERAL_VOTES'] =\\\n",
    "        house_results_2016.loc[:, 'GENERAL_VOTES']\\\n",
    "            .str.replace('Unopposed', str(np.nan)).astype(float)"
   ]
  },
  {
   "cell_type": "code",
   "execution_count": 10,
   "metadata": {},
   "outputs": [],
   "source": [
    "# extract the raw totals for each election\n",
    "# (for potential sanity check later)\n",
    "total_votes = house_results_2016\\\n",
    "                [house_results_2016['TOTAL_VOTES'].notnull()].copy()"
   ]
  },
  {
   "cell_type": "code",
   "execution_count": 11,
   "metadata": {},
   "outputs": [
    {
     "name": "stdout",
     "output_type": "stream",
     "text": [
      "True\n"
     ]
    }
   ],
   "source": [
    "# For candidates with multiple entries in the same primary election, select the row \n",
    "# with the higest number of primary votes.\n",
    "# Most candidates who appear more than once are they are running in states which\n",
    "# allow for Electoral Fusion.\n",
    "# For more information, see: https://en.wikipedia.org/wiki/Electoral_fusion#United_States\n",
    "\n",
    "nunique_cands_pre = pd.DataFrame()\n",
    "nunique_cands_post = pd.DataFrame()\n",
    "\n",
    "for state in states_and_districts():\n",
    "    n_cand = house_results_2016[house_results_2016['STATE_ABBREVIATION'] == state]\\\n",
    "                ['CANDIDATE_ID'].nunique()\n",
    "    \n",
    "    nunique_cands_pre = nunique_cands_pre.append({'State' : state,\n",
    "                                                  'Num. of Unique Candidates' : n_cand}, \n",
    "                                                ignore_index=True)\n",
    "\n",
    "# drop duplicate candidate IDs\n",
    "house_results_2016 = house_results_2016.sort_values('PRIMARY_VOTES', ascending=False)\\\n",
    "                        .drop_duplicates('CANDIDATE_ID')\n",
    "\n",
    "for state in states_and_districts():\n",
    "    n_cand = house_results_2016[house_results_2016['STATE_ABBREVIATION'] == state]\\\n",
    "                ['CANDIDATE_ID'].nunique()\n",
    "    \n",
    "    nunique_cands_post = nunique_cands_post.append({'State' : state,\n",
    "                                                    'Num. of Unique Candidates' : n_cand}, \n",
    "                                                    ignore_index=True)\n",
    "\n",
    "# check that the number of unique candidates per state is the same before and after\n",
    "# dropping duplicates\n",
    "print(nunique_cands_post.equals(nunique_cands_pre))"
   ]
  },
  {
   "cell_type": "code",
   "execution_count": 12,
   "metadata": {},
   "outputs": [],
   "source": [
    "# For the states with Electoral Fusion, use the combined general election totals \n",
    "# (for all parties a candidate was voted for under) instead of general election \n",
    "# totals per party.\n",
    "\n",
    "house_results_2016['GENERAL_VOTES'].mask(\n",
    "            house_results_2016['COMBINED_GE_PARTY_TOTALS_(CT,_NY,_SC)'].notnull(),\n",
    "            house_results_2016['COMBINED_GE_PARTY_TOTALS_(CT,_NY,_SC)'],\n",
    "            inplace=True)\n",
    "\n",
    "house_results_2016['GENERAL_%'].mask(\n",
    "            house_results_2016['COMBINED_%_(CT,_NY,_SC)'].notnull(),\n",
    "            house_results_2016['COMBINED_%_(CT,_NY,_SC)'],\n",
    "            inplace=True)"
   ]
  },
  {
   "cell_type": "code",
   "execution_count": 37,
   "metadata": {},
   "outputs": [
    {
     "name": "stdout",
     "output_type": "stream",
     "text": [
      "<class 'pandas.core.frame.DataFrame'>\n",
      "Int64Index: 1971 entries, 519 to 4058\n",
      "Data columns (total 22 columns):\n",
      "STATE_ABBREVIATION                       1971 non-null object\n",
      "STATE                                    1971 non-null object\n",
      "D                                        1970 non-null object\n",
      "CANDIDATE_ID                             1970 non-null object\n",
      "INCUMBENT                                1971 non-null int64\n",
      "CANDIDATE_NAME_(FIRST)                   1967 non-null object\n",
      "CANDIDATE_NAME_(LAST)                    1969 non-null object\n",
      "CANDIDATE_NAME                           1970 non-null object\n",
      "TOTAL_VOTES                              1 non-null object\n",
      "PARTY                                    1969 non-null object\n",
      "PRIMARY_VOTES                            1468 non-null float64\n",
      "PRIMARY_%                                1466 non-null float64\n",
      "RUNOFF_VOTES                             12 non-null float64\n",
      "RUNOFF_%                                 12 non-null float64\n",
      "GENERAL_VOTES                            1177 non-null float64\n",
      "GENERAL_%                                1174 non-null float64\n",
      "GE_RUNOFF_ELECTION_VOTES_(LA)            4 non-null float64\n",
      "GE_RUNOFF_ELECTION_%_(LA)                4 non-null float64\n",
      "COMBINED_GE_PARTY_TOTALS_(CT,_NY,_SC)    52 non-null float64\n",
      "COMBINED_%_(CT,_NY,_SC)                  52 non-null float64\n",
      "GE_WINNER_INDICATOR                      1971 non-null int64\n",
      "FOOTNOTES                                192 non-null object\n",
      "dtypes: float64(10), int64(2), object(10)\n",
      "memory usage: 354.2+ KB\n"
     ]
    }
   ],
   "source": [
    "house_results_2016.info()"
   ]
  },
  {
   "cell_type": "markdown",
   "metadata": {},
   "source": [
    "## Columns to Keep and those to Remove\n",
    "There are a few columns which won't be considered or needed for the analysis to follow, namely `COMBINED_GE_PARTY_TOTALS_(CT,_NY,_SC)` and `COMBINED_%_(CT,_NY,_SC)` since those values were copied over to `GENERAL_VOTES` and `GENERAL_%` respectively. The `RUNOFF_VOTES`, `RUNOFF_%`, `GE_RUNOFF_ELECTION_VOTES_(LA)` and `GE_RUNOFF_ELECTION_%_(LA)` will be dropped in order to simplify the analysis (`GE_WINNER_INDICATION` is the important metric).\n",
    "Lastly, `STATE`, `CANDIDATE_NAME_(FIRST)`, ` CANDIDATE_NAME_(LAST)`, `TOTAL_VOTES`, \n",
    "and `FOOTNOTES` are either captured by other columns or unneeded altogether."
   ]
  },
  {
   "cell_type": "code",
   "execution_count": 35,
   "metadata": {},
   "outputs": [],
   "source": [
    "# columns to keep\n",
    "results_cols = ['STATE_ABBREVIATION', 'D', 'INCUMBENT', 'CANDIDATE_NAME', 'CANDIDATE_ID', \n",
    "                'PARTY', 'PRIMARY_VOTES', 'PRIMARY_%', 'GENERAL_VOTES', 'GENERAL_%',\n",
    "                'GE_WINNER_INDICATOR']"
   ]
  },
  {
   "cell_type": "code",
   "execution_count": 36,
   "metadata": {},
   "outputs": [],
   "source": [
    "# final 2016 House Election Results dataframe\n",
    "house_results_2016_clean =\\\n",
    "    house_results_2016[house_results_2016['CANDIDATE_ID'].notnull()][results_cols].copy()"
   ]
  },
  {
   "cell_type": "code",
   "execution_count": 15,
   "metadata": {},
   "outputs": [
    {
     "name": "stdout",
     "output_type": "stream",
     "text": [
      "<class 'pandas.core.frame.DataFrame'>\n",
      "Int64Index: 1970 entries, 3200 to 4058\n",
      "Data columns (total 9 columns):\n",
      "STATE_ABBREVIATION     1970 non-null object\n",
      "D                      1969 non-null object\n",
      "INCUMBENT              1970 non-null int64\n",
      "CANDIDATE_NAME         1970 non-null object\n",
      "CANDIDATE_ID           1970 non-null object\n",
      "PARTY                  1969 non-null object\n",
      "PRIMARY_VOTES          1467 non-null float64\n",
      "GENERAL_VOTES          1176 non-null float64\n",
      "GE_WINNER_INDICATOR    1970 non-null int64\n",
      "dtypes: float64(2), int64(2), object(5)\n",
      "memory usage: 153.9+ KB\n"
     ]
    }
   ],
   "source": [
    "house_results_2016_clean.info()"
   ]
  },
  {
   "cell_type": "code",
   "execution_count": 16,
   "metadata": {},
   "outputs": [],
   "source": [
    "# save the dataframes as a CSV file\n",
    "house_results_2016_clean.to_csv('house_results_2016_clean.csv', index=False)\n",
    "total_votes.to_csv('total_votes_house_2016.csv', index=False)"
   ]
  },
  {
   "cell_type": "code",
   "execution_count": null,
   "metadata": {},
   "outputs": [],
   "source": []
  },
  {
   "cell_type": "markdown",
   "metadata": {},
   "source": [
    "## Obtaining Principal Committee IDs \n",
    "#### Search for principal committee IDs for each candidate ID that appears in the House Election Results dataframe "
   ]
  },
  {
   "cell_type": "code",
   "execution_count": 17,
   "metadata": {},
   "outputs": [],
   "source": [
    "# Search for Principal Committee ID for each candidate ID. \n",
    "\n",
    "# used to throttle API calls to FEC (limit 1000 per hour)\n",
    "@sleep_and_retry\n",
    "@limits(calls=15, period=60)\n",
    "def url_call_search(candidate_id, api_key=myapikey):\n",
    "    \n",
    "    url = (\n",
    "            'https://api.open.fec.gov/v1/'\n",
    "            'candidates/search/?'\n",
    "            'sort=name'\n",
    "            '&api_key={api_key}'\n",
    "            '&candidate_id={c}'\n",
    "            '&page=1'\n",
    "            '&per_page=50'\n",
    "            '&sort_nulls_last=false'\n",
    "            '&sort_hide_null=false'\n",
    "            '&election_year=2016'\n",
    "            '&office=H'\n",
    "            '&sort_null_only=false'.format(api_key=myapikey,\n",
    "                                            c=candidate_id)\n",
    "            )\n",
    "\n",
    "    # 'requests.models.Response' type returned\n",
    "    r = requests.get(url)\n",
    "\n",
    "    # verify URL\n",
    "    if r.status_code != 200:\n",
    "        raise Exception('API response: {}'.format(r.status_code)) \n",
    "\n",
    "    # convert 'Response' object to dict\n",
    "    r_dict = r.json()\n",
    "\n",
    "    # convert dict to a Dataframe object and return Dataframe\n",
    "    return pd.DataFrame.from_dict(r_dict['results']) "
   ]
  },
  {
   "cell_type": "code",
   "execution_count": 18,
   "metadata": {},
   "outputs": [],
   "source": [
    "# Since the information returned from the API search call contains a lot more information than\n",
    "# needed, the Principal Committee ID needs to be carefully extracted.\n",
    "def get_principal_committees(df_results):\n",
    "    # 'df_results' is a dataframe with the election results, contains Candidate IDs\n",
    "    # return a dataframe with principal committee IDs for each candidate \n",
    "    \n",
    "    search = pd.DataFrame()\n",
    "    \n",
    "    # query FEC API for each candidate\n",
    "    for cand in df_results['CANDIDATE_ID']:\n",
    "        search = search.append(url_call_search(cand), sort=True, ignore_index=True)\n",
    "\n",
    "    size = search.shape[0]\n",
    "\n",
    "    principal_committees = pd.DataFrame()\n",
    "\n",
    "    principal_committees['CANDIDATE_ID'] = np.nan\n",
    "    principal_committees['COMMITTEE_ID'] = np.nan\n",
    "\n",
    "    # campaign committees for candidates for the US House of Representatives \n",
    "    # see codes and descriptions: \n",
    "    # https://www.fec.gov/campaign-finance-data/committee-type-code-descriptions/\n",
    "    principal_committees['COMMITTEE_TYPE'] = np.nan\n",
    "\n",
    "    # extract the principal committee id\n",
    "    for idx in search.index.tolist():\n",
    "\n",
    "        # number of principal committees for each candidate\n",
    "        n_pc = len(search['principal_committees'][idx])\n",
    "\n",
    "        for n in range(n_pc):\n",
    "            cycles = search['principal_committees'][idx][n]['cycles']\n",
    "\n",
    "            # assuming 1 principal committee per candidate per election cycle \n",
    "            # otherwise will select last principal committee listed...\n",
    "            if year in cycles:\n",
    "                principal_committees.loc[idx, 'CANDIDATE_ID'] =\\\n",
    "                    search.loc[idx, 'candidate_id']\n",
    "                principal_committees.loc[idx, 'COMMITTEE_ID'] =\\\n",
    "                    search.loc[idx, 'principal_committees'][n]['committee_id']\n",
    "                principal_committees['COMMITTEE_TYPE'] = 'H'\n",
    "    \n",
    "    return principal_committees"
   ]
  },
  {
   "cell_type": "code",
   "execution_count": 19,
   "metadata": {},
   "outputs": [],
   "source": [
    "principal_committees_all = pd.DataFrame()\n",
    "\n",
    "for state in states_and_districts():\n",
    "    principal_committees_all =\\\n",
    "        principal_committees_all.append(get_principal_committees(\n",
    "            house_results_2016_clean[house_results_2016_clean['STATE_ABBREVIATION'] == state]))"
   ]
  },
  {
   "cell_type": "code",
   "execution_count": 20,
   "metadata": {},
   "outputs": [
    {
     "data": {
      "text/plain": [
       "(1349, 3)"
      ]
     },
     "execution_count": 20,
     "metadata": {},
     "output_type": "execute_result"
    }
   ],
   "source": [
    "principal_committees_all.shape"
   ]
  },
  {
   "cell_type": "code",
   "execution_count": 21,
   "metadata": {},
   "outputs": [],
   "source": [
    "# save the dataframes as a CSV file\n",
    "principal_committees_all.to_csv('principal_committees_house_2016.csv', index=False)"
   ]
  },
  {
   "cell_type": "code",
   "execution_count": null,
   "metadata": {},
   "outputs": [],
   "source": []
  },
  {
   "cell_type": "markdown",
   "metadata": {},
   "source": [
    "## Combining Election Results with Principal Committee IDs\n",
    "### Combine House Election Results with the candidate's corresponding Principal Committee ID"
   ]
  },
  {
   "cell_type": "code",
   "execution_count": 38,
   "metadata": {},
   "outputs": [],
   "source": [
    "# Merge house results and principal committees keeping only those rows i.e. candidate IDs\n",
    "# that appear in both (inner join).\n",
    "combined = house_results_2016_clean.merge(principal_committees_all, how='inner',\n",
    "                                           on='CANDIDATE_ID')"
   ]
  },
  {
   "cell_type": "code",
   "execution_count": 39,
   "metadata": {},
   "outputs": [
    {
     "name": "stdout",
     "output_type": "stream",
     "text": [
      "<class 'pandas.core.frame.DataFrame'>\n",
      "Int64Index: 1349 entries, 0 to 1348\n",
      "Data columns (total 13 columns):\n",
      "STATE_ABBREVIATION     1349 non-null object\n",
      "D                      1349 non-null object\n",
      "INCUMBENT              1349 non-null int64\n",
      "CANDIDATE_NAME         1349 non-null object\n",
      "CANDIDATE_ID           1349 non-null object\n",
      "PARTY                  1349 non-null object\n",
      "PRIMARY_VOTES          1110 non-null float64\n",
      "PRIMARY_%              1109 non-null float64\n",
      "GENERAL_VOTES          839 non-null float64\n",
      "GENERAL_%              837 non-null float64\n",
      "GE_WINNER_INDICATOR    1349 non-null int64\n",
      "COMMITTEE_ID           1349 non-null object\n",
      "COMMITTEE_TYPE         1349 non-null object\n",
      "dtypes: float64(4), int64(2), object(7)\n",
      "memory usage: 147.5+ KB\n"
     ]
    }
   ],
   "source": [
    "combined.info()"
   ]
  },
  {
   "cell_type": "code",
   "execution_count": 40,
   "metadata": {},
   "outputs": [],
   "source": [
    "# save the dataframes as a CSV file\n",
    "combined.to_csv('house_results_pc_2016.csv', index=False)"
   ]
  },
  {
   "cell_type": "code",
   "execution_count": null,
   "metadata": {},
   "outputs": [],
   "source": []
  },
  {
   "cell_type": "markdown",
   "metadata": {},
   "source": [
    "## Obtain Financial Reports for each Principal Committee\n",
    "### Search for all Form 3 filed by each Principal Committee"
   ]
  },
  {
   "cell_type": "code",
   "execution_count": 25,
   "metadata": {},
   "outputs": [],
   "source": [
    "# used to throttle API calls to FEC (limit 1000 per hour)\n",
    "@sleep_and_retry\n",
    "@limits(calls=15, period=60)\n",
    "def url_call_committee_fin_reports(committee_id, year):\n",
    "    url = (\"https://api.open.fec.gov/v1/\"\n",
    "            \"committee/{c}/reports/?\"\n",
    "            \"page=1\"\n",
    "            \"&year=2015\"  \n",
    "            \"&year=2016\"  \n",
    "            \"&api_key={api}\"\n",
    "            \"&per_page=50\"\n",
    "            \"&is_amended=False\".format(c=committee_id,\n",
    "                                       api=myapikey)\n",
    "            )\n",
    "\n",
    "    # 'requests.models.Response' type returned\n",
    "    r = requests.get(url)\n",
    "\n",
    "    # verify URL\n",
    "    if r.status_code != 200:\n",
    "        raise Exception('API response: {}'.format(r.status_code)) \n",
    "\n",
    "    # convert 'Response' object to dict\n",
    "    r_dict = r.json()\n",
    "\n",
    "    # convert dict to a Dataframe object and return Dataframe\n",
    "    return pd.DataFrame.from_dict(r_dict['results'])"
   ]
  },
  {
   "cell_type": "code",
   "execution_count": 26,
   "metadata": {},
   "outputs": [],
   "source": [
    "financial_reports = pd.DataFrame()\n",
    "\n",
    "for com in combined['COMMITTEE_ID']:\n",
    "\n",
    "    financial_reports =\\\n",
    "        financial_reports.append(url_call_committee_fin_reports(com, year), \n",
    "                                sort=True, ignore_index=True)"
   ]
  },
  {
   "cell_type": "code",
   "execution_count": 41,
   "metadata": {},
   "outputs": [],
   "source": [
    "# save the dataframes as a CSV file\n",
    "financial_reports.to_csv('financial_reports_house_2016.csv', index=False)"
   ]
  },
  {
   "cell_type": "code",
   "execution_count": null,
   "metadata": {},
   "outputs": [],
   "source": []
  },
  {
   "cell_type": "markdown",
   "metadata": {},
   "source": [
    "# THE END\n",
    "### See data_analysis.ipynb for Data Analysis using the data obtained above."
   ]
  },
  {
   "cell_type": "code",
   "execution_count": null,
   "metadata": {},
   "outputs": [],
   "source": []
  }
 ],
 "metadata": {
  "kernelspec": {
   "display_name": "Python 3",
   "language": "python",
   "name": "python3"
  },
  "language_info": {
   "codemirror_mode": {
    "name": "ipython",
    "version": 3
   },
   "file_extension": ".py",
   "mimetype": "text/x-python",
   "name": "python",
   "nbconvert_exporter": "python",
   "pygments_lexer": "ipython3",
   "version": "3.7.3"
  }
 },
 "nbformat": 4,
 "nbformat_minor": 2
}
