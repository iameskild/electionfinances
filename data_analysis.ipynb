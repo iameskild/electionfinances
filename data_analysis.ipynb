{
 "cells": [
  {
   "cell_type": "markdown",
   "metadata": {},
   "source": [
    "# Analyzing Campaign Spending\n",
    "## 2016 House Election\n",
    "\n",
    "I consider myself lucky to live in a time when democracy is considered the best and purest form of government. I would also consider myself lucky to live in a country that claims to value a \"government of the people, by the people, for the people.\"\n",
    "\n",
    "All of that being said, the United States has a long history of undermining this fundamental value from only allowing certain citizens to vote to modern day voter suppression laws, from having a first-pass-the-post voting system to not making election day a national holiday. However of those of concerns and more, the one concern I would like to focus on relates to campaign spending and the possible side effects of the Supreme Court ruling FEC v Citizens United. \n",
    "\n",
    "This whole project started with one question: **does the candidate who spends the most money during a campaign end up winning that election?** \n",
    "\n",
    "For the time being, I will only consider spending by the candidate's principal committee (i.e. Joe Smith for Congress). At a later date, I would like to include other committess who's aim it is to elect a specific candidate such as PAC committees, Joint committees, and ultimately Independent Expenditure-Only committess (aka Super-PACs). "
   ]
  },
  {
   "cell_type": "code",
   "execution_count": 1,
   "metadata": {},
   "outputs": [],
   "source": [
    "import requests\n",
    "import json\n",
    "import re\n",
    "import numpy as np\n",
    "import pandas as pd\n",
    "import matplotlib.pyplot as plt\n",
    "import seaborn as sns\n",
    "from math import ceil\n",
    "\n",
    "%matplotlib inline"
   ]
  },
  {
   "cell_type": "code",
   "execution_count": 2,
   "metadata": {},
   "outputs": [],
   "source": [
    "# color palette and cmap used for graphs\n",
    "cmap = plt.cm.get_cmap('Spectral')\n",
    "palette = {key:cmap(i) for key, i in zip(np.linspace(0,10,11), np.linspace(0,1,11))}\n",
    "\n",
    "# font details used for graphs\n",
    "font = {'family' : 'sans-serif',\n",
    "        'size'   : 18}"
   ]
  },
  {
   "cell_type": "code",
   "execution_count": 3,
   "metadata": {},
   "outputs": [],
   "source": [
    "def states_and_districts():\n",
    "# number of Congressional Districts per state after the 2010 census \n",
    "# 2013 was the first year with new districts\n",
    "\n",
    "    return {\n",
    "        'AL':7,\n",
    "        'AK':1,\n",
    "        'AZ':9,\n",
    "        'AR':4,\n",
    "        'CA':53,\n",
    "        'CO':7,\n",
    "        'CT':5,\n",
    "        'DE':1,\n",
    "        'FL':27,\n",
    "        'GA':14,\n",
    "        'HI':2,\n",
    "        'ID':2,\n",
    "        'IL':18,\n",
    "        'IN':9,\n",
    "        'IA':4,\n",
    "        'KS':4,\n",
    "        'KY':6,\n",
    "        'LA':6,\n",
    "        'ME':2,\n",
    "        'MD':8,\n",
    "        'MA':9,\n",
    "        'MI':14,\n",
    "        'MN':8,\n",
    "        'MS':4,\n",
    "        'MO':8,\n",
    "        'MT':1,\n",
    "        'NE':3,\n",
    "        'NV':4,\n",
    "        'NH':2,\n",
    "        'NJ':12,\n",
    "        'NM':3,\n",
    "        'NY':27,\n",
    "        'NC':13,\n",
    "        'ND':1,\n",
    "        'OH':16,\n",
    "        'OK':5,\n",
    "        'OR':5,\n",
    "        'PA':18,\n",
    "        'RI':2,\n",
    "        'SC':7,\n",
    "        'SD':1,\n",
    "        'TN':9,\n",
    "        'TX':36,\n",
    "        'UT':4,\n",
    "        'VT':1,\n",
    "        'VA':11,\n",
    "        'WA':10,\n",
    "        'WV':3,\n",
    "        'WI':8,\n",
    "        'WY':1\n",
    "    }"
   ]
  },
  {
   "cell_type": "markdown",
   "metadata": {},
   "source": [
    "## Obtaining the 2016 House Election Results\n",
    "The results for the 2016 Election (for all Federal positions) are posted on the FEC website:\n",
    "https://transition.fec.gov/pubrec/electionresults.shtml\n",
    "\n",
    "I downloaded the excel document from the link above and read in the sheet pertaining to the House of Representatives election results. This dataframe contained both the Primary and General Election results for all states and all districts with total vote counts for both, unless the Primary system for that state dictated otherwise. \n",
    "\n",
    "I then broke that dataframe into two seperate dataframes, one containing the raw total vote count for each district (saved as 'total_votes_house_2016.csv') and the other containing the names and candidate IDs of each candidate along with their respective total vote counts for each dictrict (saved as 'house_results_2016_clean.csv'). \n",
    "\n",
    "To see steps taken to 'clean' dataframe, see ....."
   ]
  },
  {
   "cell_type": "code",
   "execution_count": 4,
   "metadata": {},
   "outputs": [],
   "source": [
    "results = pd.read_csv('house_results_2016_clean.csv')"
   ]
  },
  {
   "cell_type": "code",
   "execution_count": 5,
   "metadata": {},
   "outputs": [
    {
     "data": {
      "text/plain": [
       "1970"
      ]
     },
     "execution_count": 5,
     "metadata": {},
     "output_type": "execute_result"
    }
   ],
   "source": [
    "# Total number of candidates who appeared in the 2016 House of Rep election results document\n",
    "results.shape[0]"
   ]
  },
  {
   "cell_type": "code",
   "execution_count": 6,
   "metadata": {},
   "outputs": [
    {
     "data": {
      "text/plain": [
       "21"
      ]
     },
     "execution_count": 6,
     "metadata": {},
     "output_type": "execute_result"
    }
   ],
   "source": [
    "# Number of candidates running to be a Congressional Delegate for DC or US territories \n",
    "# (Note: the Delegates voted to the House of Representatives cannot vote on House bills...) \n",
    "n_delegates =\\\n",
    "    results[(results['STATE_ABBREVIATION'] == 'AS') |          # American Samoa\n",
    "            (results['STATE_ABBREVIATION'] == 'DC') |          # District of Columbia\n",
    "            (results['STATE_ABBREVIATION'] == 'GU') |          # Guam\n",
    "            (results['STATE_ABBREVIATION'] == 'MP') |          # Northern Mariana Islands\n",
    "            (results['STATE_ABBREVIATION'] == 'PR') |          # Puerto Rice\n",
    "            (results['STATE_ABBREVIATION'] == 'VI')].shape[0]  # US Virgin Islands\n",
    "\n",
    "n_delegates"
   ]
  },
  {
   "cell_type": "code",
   "execution_count": 7,
   "metadata": {},
   "outputs": [
    {
     "data": {
      "text/plain": [
       "1949"
      ]
     },
     "execution_count": 7,
     "metadata": {},
     "output_type": "execute_result"
    }
   ],
   "source": [
    "# Number of House of Rep candidates running in the 50 US states\n",
    "results.shape[0] - n_delegates"
   ]
  },
  {
   "cell_type": "code",
   "execution_count": 8,
   "metadata": {
    "scrolled": true
   },
   "outputs": [
    {
     "data": {
      "text/html": [
       "<div>\n",
       "<style scoped>\n",
       "    .dataframe tbody tr th:only-of-type {\n",
       "        vertical-align: middle;\n",
       "    }\n",
       "\n",
       "    .dataframe tbody tr th {\n",
       "        vertical-align: top;\n",
       "    }\n",
       "\n",
       "    .dataframe thead th {\n",
       "        text-align: right;\n",
       "    }\n",
       "</style>\n",
       "<table border=\"1\" class=\"dataframe\">\n",
       "  <thead>\n",
       "    <tr style=\"text-align: right;\">\n",
       "      <th></th>\n",
       "      <th>STATE_ABBREVIATION</th>\n",
       "      <th>D</th>\n",
       "      <th>INCUMBENT</th>\n",
       "      <th>CANDIDATE_NAME</th>\n",
       "      <th>CANDIDATE_ID</th>\n",
       "      <th>PARTY</th>\n",
       "      <th>PRIMARY_VOTES</th>\n",
       "      <th>PRIMARY_%</th>\n",
       "      <th>GENERAL_VOTES</th>\n",
       "      <th>GENERAL_%</th>\n",
       "      <th>GE_WINNER_INDICATOR</th>\n",
       "    </tr>\n",
       "  </thead>\n",
       "  <tbody>\n",
       "    <tr>\n",
       "      <th>86</th>\n",
       "      <td>PA</td>\n",
       "      <td>7.0</td>\n",
       "      <td>1</td>\n",
       "      <td>Meehan, Patrick L.</td>\n",
       "      <td>H0PA07082</td>\n",
       "      <td>R</td>\n",
       "      <td>86178.0</td>\n",
       "      <td>0.757822</td>\n",
       "      <td>225678.0</td>\n",
       "      <td>NaN</td>\n",
       "      <td>1</td>\n",
       "    </tr>\n",
       "    <tr>\n",
       "      <th>269</th>\n",
       "      <td>KS</td>\n",
       "      <td>1.0</td>\n",
       "      <td>1</td>\n",
       "      <td>Huelskamp, Tim</td>\n",
       "      <td>H6KS01146</td>\n",
       "      <td>R</td>\n",
       "      <td>45997.0</td>\n",
       "      <td>0.434401</td>\n",
       "      <td>874.0</td>\n",
       "      <td>NaN</td>\n",
       "      <td>0</td>\n",
       "    </tr>\n",
       "  </tbody>\n",
       "</table>\n",
       "</div>"
      ],
      "text/plain": [
       "    STATE_ABBREVIATION    D  INCUMBENT      CANDIDATE_NAME CANDIDATE_ID PARTY  \\\n",
       "86                  PA  7.0          1  Meehan, Patrick L.    H0PA07082     R   \n",
       "269                 KS  1.0          1      Huelskamp, Tim    H6KS01146     R   \n",
       "\n",
       "     PRIMARY_VOTES  PRIMARY_%  GENERAL_VOTES  GENERAL_%  GE_WINNER_INDICATOR  \n",
       "86         86178.0   0.757822       225678.0        NaN                    1  \n",
       "269        45997.0   0.434401          874.0        NaN                    0  "
      ]
     },
     "execution_count": 8,
     "metadata": {},
     "output_type": "execute_result"
    }
   ],
   "source": [
    "# INSERT GENERAL_% FOR CANDIDATES BELOW... data cleaning step\n",
    "results[(results['GENERAL_VOTES'].notnull() & \n",
    "        (results['GENERAL_%'].isnull()))]"
   ]
  },
  {
   "cell_type": "code",
   "execution_count": 9,
   "metadata": {},
   "outputs": [
    {
     "data": {
      "text/plain": [
       "1176"
      ]
     },
     "execution_count": 9,
     "metadata": {},
     "output_type": "execute_result"
    }
   ],
   "source": [
    "# Number of House of Rep candidates that appeared in the General Election\n",
    "results[results['GENERAL_VOTES'].notnull()].shape[0]"
   ]
  },
  {
   "cell_type": "code",
   "execution_count": null,
   "metadata": {},
   "outputs": [],
   "source": []
  },
  {
   "cell_type": "markdown",
   "metadata": {},
   "source": [
    "## Obtaining Principal Committee IDs \n",
    "In order to determine the total amount of money directly raised and spent by a candidate, we will need to know their Principal Committee ID (i.e. House Committee). These committees must report any campaign contributions or dispursements to the FEC on a regular basis which we can then use to perform our analysis. However the 2016 House `results` dataframe only has the candidate's candidate ID number. \n",
    "\n",
    "The first thing that needs to be accomplished is to obtain Principal Committee IDs for each candidate who appeared in the `results` dataframe. Using the FECs API, I sent a request for more information on a candidate's Principal Committee for each candidate ID that appeared in the `results` dataframe.\n",
    "\n",
    "I will only include candidates running in the 50 states and not those running to be Congressional Delegates in DC or the US Territories. This means I should see 1949 distinct committee IDs for each of the 1949 candidates.\n",
    "\n",
    "To see steps used to obtain this information, see ....."
   ]
  },
  {
   "cell_type": "code",
   "execution_count": 10,
   "metadata": {},
   "outputs": [],
   "source": [
    "pc = pd.read_csv('principal_committees_house_2016.csv')"
   ]
  },
  {
   "cell_type": "code",
   "execution_count": 11,
   "metadata": {},
   "outputs": [
    {
     "data": {
      "text/plain": [
       "1349"
      ]
     },
     "execution_count": 11,
     "metadata": {},
     "output_type": "execute_result"
    }
   ],
   "source": [
    "pc.shape[0]"
   ]
  },
  {
   "cell_type": "code",
   "execution_count": null,
   "metadata": {},
   "outputs": [],
   "source": []
  },
  {
   "cell_type": "markdown",
   "metadata": {},
   "source": [
    "## Combining Election Results with Principal Committee IDs\n",
    "Next, I combined the two dataframes `results` and `pc` to obtain a dataframe which has both the candidate's name, ID and corresponding committee ID as well as the results of the race they were running in. Unfortunately not all of the candidates which appear in the `results` dataframe appear to have Principal Committees dataframe `pc`.\n",
    "\n",
    "Given that the committee IDs are the vital gateway to obtaining information about a candidates campaign finances, I performed an inner merge between `results` and `pc`.\n",
    "\n",
    "For more information on 'Candidates and their authorized committees' see:    \n",
    "https://www.fec.gov/help-candidates-and-committees/guides/?tab=candidates-and-their-authorized-committees"
   ]
  },
  {
   "cell_type": "code",
   "execution_count": 12,
   "metadata": {},
   "outputs": [],
   "source": [
    "# merge house results and principal committees keeping all the rows that appear \n",
    "# in the both dataframes (inner join)\n",
    "# a merged copy was already created in the data_extraction notebook\n",
    "results_pc = pd.read_csv('house_results_pc_2016.csv')"
   ]
  },
  {
   "cell_type": "code",
   "execution_count": 13,
   "metadata": {},
   "outputs": [
    {
     "name": "stdout",
     "output_type": "stream",
     "text": [
      "<class 'pandas.core.frame.DataFrame'>\n",
      "RangeIndex: 1349 entries, 0 to 1348\n",
      "Data columns (total 13 columns):\n",
      "STATE_ABBREVIATION     1349 non-null object\n",
      "D                      1349 non-null int64\n",
      "INCUMBENT              1349 non-null int64\n",
      "CANDIDATE_NAME         1349 non-null object\n",
      "CANDIDATE_ID           1349 non-null object\n",
      "PARTY                  1349 non-null object\n",
      "PRIMARY_VOTES          1110 non-null float64\n",
      "PRIMARY_%              1109 non-null float64\n",
      "GENERAL_VOTES          839 non-null float64\n",
      "GENERAL_%              837 non-null float64\n",
      "GE_WINNER_INDICATOR    1349 non-null int64\n",
      "COMMITTEE_ID           1349 non-null object\n",
      "COMMITTEE_TYPE         1349 non-null object\n",
      "dtypes: float64(4), int64(3), object(6)\n",
      "memory usage: 137.1+ KB\n"
     ]
    }
   ],
   "source": [
    "results_pc.info()"
   ]
  },
  {
   "cell_type": "code",
   "execution_count": 14,
   "metadata": {},
   "outputs": [
    {
     "data": {
      "text/html": [
       "<div>\n",
       "<style scoped>\n",
       "    .dataframe tbody tr th:only-of-type {\n",
       "        vertical-align: middle;\n",
       "    }\n",
       "\n",
       "    .dataframe tbody tr th {\n",
       "        vertical-align: top;\n",
       "    }\n",
       "\n",
       "    .dataframe thead th {\n",
       "        text-align: right;\n",
       "    }\n",
       "</style>\n",
       "<table border=\"1\" class=\"dataframe\">\n",
       "  <thead>\n",
       "    <tr style=\"text-align: right;\">\n",
       "      <th></th>\n",
       "      <th>STATE_ABBREVIATION</th>\n",
       "      <th>D</th>\n",
       "      <th>INCUMBENT</th>\n",
       "      <th>CANDIDATE_NAME</th>\n",
       "      <th>CANDIDATE_ID</th>\n",
       "      <th>PARTY</th>\n",
       "      <th>PRIMARY_VOTES</th>\n",
       "      <th>PRIMARY_%</th>\n",
       "      <th>GENERAL_VOTES</th>\n",
       "      <th>GENERAL_%</th>\n",
       "      <th>GE_WINNER_INDICATOR</th>\n",
       "      <th>COMMITTEE_ID</th>\n",
       "      <th>COMMITTEE_TYPE</th>\n",
       "    </tr>\n",
       "  </thead>\n",
       "  <tbody>\n",
       "    <tr>\n",
       "      <th>22</th>\n",
       "      <td>CA</td>\n",
       "      <td>37</td>\n",
       "      <td>1</td>\n",
       "      <td>Bass, Karen</td>\n",
       "      <td>H0CA33117</td>\n",
       "      <td>D</td>\n",
       "      <td>115597.0</td>\n",
       "      <td>0.802105</td>\n",
       "      <td>192490.0</td>\n",
       "      <td>0.811263</td>\n",
       "      <td>1</td>\n",
       "      <td>C00476523</td>\n",
       "      <td>H</td>\n",
       "    </tr>\n",
       "  </tbody>\n",
       "</table>\n",
       "</div>"
      ],
      "text/plain": [
       "   STATE_ABBREVIATION   D  INCUMBENT CANDIDATE_NAME CANDIDATE_ID PARTY  \\\n",
       "22                 CA  37          1    Bass, Karen    H0CA33117     D   \n",
       "\n",
       "    PRIMARY_VOTES  PRIMARY_%  GENERAL_VOTES  GENERAL_%  GE_WINNER_INDICATOR  \\\n",
       "22       115597.0   0.802105       192490.0   0.811263                    1   \n",
       "\n",
       "   COMMITTEE_ID COMMITTEE_TYPE  \n",
       "22    C00476523              H  "
      ]
     },
     "execution_count": 14,
     "metadata": {},
     "output_type": "execute_result"
    }
   ],
   "source": [
    "# Spotlight district: CA-37th\n",
    "results_pc[(results_pc['STATE_ABBREVIATION'] == 'CA') & # Filter for California\n",
    "           (results_pc['D'] == 37) &                    # Filter for the 37th district\n",
    "           (results_pc['GENERAL_VOTES'].notnull())]     # Filter for General Election"
   ]
  },
  {
   "cell_type": "code",
   "execution_count": 39,
   "metadata": {},
   "outputs": [
    {
     "data": {
      "text/html": [
       "<div>\n",
       "<style scoped>\n",
       "    .dataframe tbody tr th:only-of-type {\n",
       "        vertical-align: middle;\n",
       "    }\n",
       "\n",
       "    .dataframe tbody tr th {\n",
       "        vertical-align: top;\n",
       "    }\n",
       "\n",
       "    .dataframe thead th {\n",
       "        text-align: right;\n",
       "    }\n",
       "</style>\n",
       "<table border=\"1\" class=\"dataframe\">\n",
       "  <thead>\n",
       "    <tr style=\"text-align: right;\">\n",
       "      <th></th>\n",
       "      <th>STATE_ABBREVIATION</th>\n",
       "      <th>D</th>\n",
       "      <th>INCUMBENT</th>\n",
       "      <th>CANDIDATE_NAME</th>\n",
       "      <th>CANDIDATE_ID</th>\n",
       "      <th>PARTY</th>\n",
       "      <th>PRIMARY_VOTES</th>\n",
       "      <th>PRIMARY_%</th>\n",
       "      <th>GENERAL_VOTES</th>\n",
       "      <th>GENERAL_%</th>\n",
       "      <th>GE_WINNER_INDICATOR</th>\n",
       "      <th>COMMITTEE_ID</th>\n",
       "      <th>COMMITTEE_TYPE</th>\n",
       "    </tr>\n",
       "  </thead>\n",
       "  <tbody>\n",
       "    <tr>\n",
       "      <th>39</th>\n",
       "      <td>MS</td>\n",
       "      <td>4</td>\n",
       "      <td>1</td>\n",
       "      <td>Palazzo, Steven</td>\n",
       "      <td>H0MS04120</td>\n",
       "      <td>R</td>\n",
       "      <td>103558.0</td>\n",
       "      <td>1.0</td>\n",
       "      <td>181323.0</td>\n",
       "      <td>0.650418</td>\n",
       "      <td>1</td>\n",
       "      <td>C00477323</td>\n",
       "      <td>H</td>\n",
       "    </tr>\n",
       "    <tr>\n",
       "      <th>1242</th>\n",
       "      <td>MS</td>\n",
       "      <td>4</td>\n",
       "      <td>0</td>\n",
       "      <td>Gladney, Mark</td>\n",
       "      <td>H6MS04192</td>\n",
       "      <td>D</td>\n",
       "      <td>NaN</td>\n",
       "      <td>NaN</td>\n",
       "      <td>77505.0</td>\n",
       "      <td>0.278016</td>\n",
       "      <td>0</td>\n",
       "      <td>C00604694</td>\n",
       "      <td>H</td>\n",
       "    </tr>\n",
       "  </tbody>\n",
       "</table>\n",
       "</div>"
      ],
      "text/plain": [
       "     STATE_ABBREVIATION  D  INCUMBENT   CANDIDATE_NAME CANDIDATE_ID PARTY  \\\n",
       "39                   MS  4          1  Palazzo, Steven    H0MS04120     R   \n",
       "1242                 MS  4          0    Gladney, Mark    H6MS04192     D   \n",
       "\n",
       "      PRIMARY_VOTES  PRIMARY_%  GENERAL_VOTES  GENERAL_%  GE_WINNER_INDICATOR  \\\n",
       "39         103558.0        1.0       181323.0   0.650418                    1   \n",
       "1242            NaN        NaN        77505.0   0.278016                    0   \n",
       "\n",
       "     COMMITTEE_ID COMMITTEE_TYPE  \n",
       "39      C00477323              H  \n",
       "1242    C00604694              H  "
      ]
     },
     "execution_count": 39,
     "metadata": {},
     "output_type": "execute_result"
    }
   ],
   "source": [
    "# Spotlight district: MS-1st\n",
    "results_pc[(results_pc['STATE_ABBREVIATION'] == 'MS') & # Filter for Mississippi\n",
    "           (results_pc['D'] == 4) &                     # Filter for the 1st district\n",
    "           (results_pc['GENERAL_VOTES'].notnull())]     # Filter for General Election"
   ]
  },
  {
   "cell_type": "code",
   "execution_count": 35,
   "metadata": {},
   "outputs": [],
   "source": [
    "ge_cand_percent = pd.DataFrame()\n",
    "\n",
    "for state in states_and_districts():\n",
    "\n",
    "    ge_pre = 0\n",
    "    ge_post = 0\n",
    "    for d in results[results['STATE_ABBREVIATION'] == state]['D'].unique():\n",
    "        ge_pre += results[(results['STATE_ABBREVIATION'] == state) & \n",
    "                         (results['D'] == d) & \n",
    "                         (results['GENERAL_VOTES'].notnull())].shape[0]\n",
    "    \n",
    "        ge_post += results_pc[(results_pc['STATE_ABBREVIATION'] == state) & \n",
    "                             (results_pc['D'] == d) &                     \n",
    "                             (results_pc['GENERAL_VOTES'].notnull())].shape[0]\n",
    "\n",
    "        \n",
    "    ge_cand_percent = ge_cand_percent.append({'State' : state,\n",
    "                                              'GE_Pre_Merge' : ge_pre,\n",
    "                                              'GE_Post_Merge' : ge_post,\n",
    "                                              'Percent' : ge_post/ge_pre},\n",
    "                                              ignore_index=True)"
   ]
  },
  {
   "cell_type": "code",
   "execution_count": 36,
   "metadata": {},
   "outputs": [
    {
     "data": {
      "image/png": "[encoded data removed]",
      "text/plain": [
       "<Figure size 720x720 with 1 Axes>"
      ]
     },
     "metadata": {},
     "output_type": "display_data"
    }
   ],
   "source": [
    "fig, ax = plt.subplots(nrows=1, ncols=1, figsize=(10,10), sharex=True)\n",
    "fig.patch.set_facecolor('w')\n",
    "\n",
    "ge_cand_percent = ge_cand_percent.sort_values('Percent')\n",
    "\n",
    "ax.spines['right'].set_visible(False)\n",
    "ax.spines['left'].set_visible(False)\n",
    "ax.spines['top'].set_visible(False)\n",
    "ax.spines['bottom'].set_visible(False)\n",
    "\n",
    "ax.barh(y=ge_cand_percent['State'], \n",
    "        width=ge_cand_percent['Percent'],\n",
    "        left=0, \n",
    "        color=palette[0], edgecolor='white', height=0.75,\n",
    "        label='GE Candidates Pre-Merge')\n",
    "\n",
    "# ax.barh(y=ge_cand_percent['State'], width=ge_cand_percent['GE_Post_Merge'],\n",
    "#         left=0, \n",
    "#         color=palette[1], edgecolor='white', height=0.75,\n",
    "#         label='GE Candidates Post-Merge')\n",
    "\n",
    "ax.legend(ncol=2, bbox_to_anchor=(0.5, 1), loc='lower center', frameon=False)\n",
    "\n",
    "ax.set_ylim(-0.5, 49.5)\n",
    "\n",
    "ax.grid(axis='x')\n",
    "\n",
    "ax.set_xlabel('Percentage', fontdict=font)\n",
    "ax.set_ylabel('State', fontdict=font)\n",
    "ax.set_title('''\n",
    "    Chart 1:\n",
    "    Percentage of Candidates w/ Principal Committees\n",
    "    and\n",
    "    Percentage of Principal Committees that Reported Funds\n",
    "    Raised or Funds Spent\n",
    "    ''', fontdict=font, y=1.04)\n",
    "\n",
    "ax.invert_yaxis()\n",
    "\n",
    "plt.show();"
   ]
  },
  {
   "cell_type": "code",
   "execution_count": null,
   "metadata": {},
   "outputs": [],
   "source": []
  },
  {
   "cell_type": "markdown",
   "metadata": {},
   "source": [
    "## Creating Two Dataframes Containing Results, Principal Committtee IDs and Relevant Financial Information\n",
    "Below I will take the financial information obtained for each Principal Committee ID, read in as `finacial_reports`, and create one dataframe for the total funds raised (receipts) and one dataframe for the total funds spent (disbursements). These two dataframes will contain the sum of all money raised and all money spent, respectively. These two dataframes will also contain the relevant information about each candidate and how their results in the 2016 election. \n",
    "\n",
    "However before creating these two dataframes, I would like to determine what percentage of candidates who appeared in House Election Results dataframes have a corresponding Principal Committee ID. And further, of those candidates that have a Principal Committee, what percentage of those committees reported any funds raised or funds spent with the FEC."
   ]
  },
  {
   "cell_type": "code",
   "execution_count": null,
   "metadata": {},
   "outputs": [],
   "source": [
    "financial_reports = pd.read_csv('financial_reports_house_2016.csv')"
   ]
  },
  {
   "cell_type": "code",
   "execution_count": null,
   "metadata": {},
   "outputs": [],
   "source": [
    "com_percent = pd.DataFrame()\n",
    "\n",
    "for state in states_and_districts():\n",
    "    df_state = results_pc[results_pc['STATE_ABBREVIATION'] == state]\n",
    "    total_n_cands = results[results['STATE_ABBREVIATION'] == state]['CANDIDATE_ID'].nunique()\n",
    "    \n",
    "    form2_count = 0\n",
    "    form3_count = 0\n",
    "    for com in df_state['COMMITTEE_ID']:\n",
    "        if com in results_pc['COMMITTEE_ID'].unique():\n",
    "            form2_count += 1\n",
    "        \n",
    "        if com in financial_reports['committee_id'].unique():\n",
    "            form3_count += 1\n",
    "\n",
    "    com_percent = com_percent.append({'State' : state,\n",
    "                                            'Num_Cands' : total_n_cands,\n",
    "                                            'Form2' : 100*round(form2_count/total_n_cands, 2),\n",
    "                                            'Form3' : 100*round(form3_count/total_n_cands, 2)},\n",
    "                                          ignore_index=True)"
   ]
  },
  {
   "cell_type": "code",
   "execution_count": null,
   "metadata": {},
   "outputs": [],
   "source": [
    "fig, ax = plt.subplots(nrows=1, ncols=1, figsize=(10,10), sharex=True)\n",
    "fig.patch.set_facecolor('w')\n",
    "\n",
    "com_percent = com_percent.sort_values('Form3')\n",
    "\n",
    "ax.spines['right'].set_visible(False)\n",
    "ax.spines['left'].set_visible(False)\n",
    "ax.spines['top'].set_visible(False)\n",
    "ax.spines['bottom'].set_visible(False)\n",
    "\n",
    "ax.barh(y=com_percent['State'], width=com_percent['Form2'],\n",
    "        left=0, \n",
    "        color=palette[0], edgecolor='white', height=0.75,\n",
    "        label='Candidates with Principal Committees')\n",
    "\n",
    "ax.barh(y=com_percent['State'], width=com_percent['Form3'],\n",
    "        left=0, \n",
    "        color=palette[1], edgecolor='white', height=0.75,\n",
    "        label='Principal Committees that Reported Finances to FEC')\n",
    "\n",
    "ax.legend(ncol=2, bbox_to_anchor=(0.5, 1), loc='lower center', frameon=False)\n",
    "\n",
    "ax.set_ylim(-0.5, 49.5)\n",
    "\n",
    "ax.grid(axis='x')\n",
    "\n",
    "ax.set_xlabel('Percentage', fontdict=font)\n",
    "ax.set_ylabel('State', fontdict=font)\n",
    "ax.set_title('''\n",
    "    Chart 1:\n",
    "    Percentage of Candidates w/ Principal Committees\n",
    "    and\n",
    "    Percentage of Principal Committees that Reported Funds\n",
    "    Raised or Funds Spent\n",
    "    ''', fontdict=font, y=1.04)\n",
    "\n",
    "ax.invert_yaxis()\n",
    "\n",
    "plt.show();"
   ]
  },
  {
   "cell_type": "markdown",
   "metadata": {},
   "source": [
    "### Understanding Chart 1\n",
    "The green bars (those Principal Committees who registered their funds raised or funds spent with the FEC) are a subset of the red-orange bars (those candidates who have registered Principal Committes with the FEC).\n",
    "\n",
    "Since these Principal Committee IDs were obtained via an API call to the FEC using individual candidate IDs, there appear to be only three explanations for why a candidate doesn't have a Principal Committee. \n",
    "1. The most likely explanation, the candidate running in the election (probably as a candidate in the primary or a write-in candidate) didn't reach the $5000 raised or spent and therefore wasn't required by law to register as a candidate to the FEC.\n",
    "    * For more details, please refer to [Instructions for Statement of Candidacy (FEC Form 2)](https://www.fec.gov/resources/cms-content/documents/fecfrm2i.pdf).\n",
    "2. The candidate broke the law and simply didn't register with the FEC. This would be especially unlikely for candidates who ended up winning as their election would suddenly draw more attention. \n",
    "3. The candidate ID for one reason or another is not linked to their Principal Committee in the FEC database. \n",
    "\n",
    "As for why there are some candidates who have a registered Principal Committee but which never registered any of their funds raised or spent, this is more difficult to determine. One possible speculative explanation could be that the candidate filed their Statement of Candidacy before reaching the $5000 raised or spent and then never reached that threshold. \n",
    "\n",
    "Going forward, I would say its safe to assume the first explanation accounts for a majority, if not all, of the missing Principal Committee IDs. This assumption will allow us to safely continue with the analysis with the remaining candidates. "
   ]
  },
  {
   "cell_type": "code",
   "execution_count": null,
   "metadata": {},
   "outputs": [],
   "source": [
    "# all relevant columns from 'financial_reports' as they relate to funds raised\n",
    "funds_raised = [\n",
    "    'individual_itemized_contributions_period',\n",
    "    'individual_unitemized_contributions_period',\n",
    "    'candidate_contribution_period',\n",
    "    'political_party_committee_contributions_period',\n",
    "    'other_political_committee_contributions_period',\n",
    "    'transfers_from_other_authorized_committee_period',\n",
    "    'loans_made_by_candidate_period',\n",
    "    'all_other_loans_period',\n",
    "    'offsets_to_operating_expenditures_period',\n",
    "    'other_receipts_period',\n",
    "    'total_receipts_period'\n",
    "]\n",
    "\n",
    "# all relevant columns from 'financial_reports' as they relate to funds spent\n",
    "funds_spent = [\n",
    "    'operating_expenditures_period',\n",
    "    'transfers_to_other_authorized_committee_period',\n",
    "    'refunded_individual_contributions_period',\n",
    "    'refunded_political_party_committee_contributions_period',\n",
    "    'refunded_other_political_committee_contributions_period',\n",
    "    'loan_repayments_candidate_loans_period',\n",
    "    'loan_repayments_other_loans_period',\n",
    "    'other_disbursements_period',\n",
    "    'total_disbursements_period'\n",
    "]"
   ]
  },
  {
   "cell_type": "code",
   "execution_count": null,
   "metadata": {},
   "outputs": [],
   "source": [
    "def fc_total_per_com(committee_id, financial_category):\n",
    "# committee_id as a string representing the committee ID \n",
    "# financial_category as a string from one of the columns from 'financial_reports'\n",
    "# return the total for that category over the course of the whole election cycle\n",
    "\n",
    "    return financial_reports[financial_reports['committee_id'] == committee_id]\\\n",
    "                [financial_category].sum()"
   ]
  },
  {
   "cell_type": "code",
   "execution_count": null,
   "metadata": {},
   "outputs": [],
   "source": [
    "# Determine the totals for each of the categories related to funds raised (aka receipts) \n",
    "# for each of the candidate and a create a new dataframe which contains these totals plus\n",
    "# information about the candidate and their election results\n",
    "\n",
    "fr_com = pd.DataFrame()\n",
    "\n",
    "for com in results_pc['COMMITTEE_ID'].unique():\n",
    "    df_temp = pd.DataFrame({'COMMITTEE_ID' : [com]})\n",
    "    \n",
    "    for fr in funds_raised:\n",
    "        fct = fc_total_per_com(com, fr)\n",
    "        fr_col = fr.replace('_period', '').upper()\n",
    "        \n",
    "        df_temp = pd.concat([df_temp, pd.DataFrame({fr_col : [fct]})], axis=1)\n",
    "    \n",
    "    fr_com = pd.concat([fr_com, df_temp])\n",
    "\n",
    "results_pc_fr = results_pc.merge(fr_com, on='COMMITTEE_ID')"
   ]
  },
  {
   "cell_type": "code",
   "execution_count": null,
   "metadata": {},
   "outputs": [],
   "source": [
    "# Determine the totals for each of the categories related to funds spent (aka disbursements) \n",
    "# for each of the candidate and a create a new dataframe which contains these totals plus\n",
    "# information about the candidate and their election results\n",
    "\n",
    "fs_com = pd.DataFrame()\n",
    "\n",
    "for com in results_pc['COMMITTEE_ID'].unique():\n",
    "    df_temp = pd.DataFrame({'COMMITTEE_ID' : [com]})\n",
    "    \n",
    "    for fs in funds_spent:\n",
    "        fct = fc_total_per_com(com, fs)\n",
    "        fs_col = fs.replace('_period', '').upper()\n",
    "        \n",
    "        df_temp = pd.concat([df_temp, pd.DataFrame({fs_col : [fct]})], axis=1)\n",
    "    \n",
    "    fs_com = pd.concat([fs_com, df_temp])\n",
    "\n",
    "results_pc_fs = results_pc.merge(fs_com, on='COMMITTEE_ID')"
   ]
  },
  {
   "cell_type": "code",
   "execution_count": null,
   "metadata": {},
   "outputs": [],
   "source": []
  },
  {
   "cell_type": "code",
   "execution_count": null,
   "metadata": {},
   "outputs": [],
   "source": [
    "# calculate the number of candidates who spent the most money during the campaign \n",
    "# and then won the general election \n",
    "n_max_funds_win_all = {}\n",
    "spent_per_com = pd.DataFrame()\n",
    "\n",
    "for state in states_and_districts():\n",
    "    # select only candidates from 'state' who appeared in the General Election\n",
    "    df_state = results_pc_fs[(results_pc_fs['STATE_ABBREVIATION'] == state) & \n",
    "                             (results_pc_fs['GENERAL_%'].notnull())]\n",
    "    n_max_funds_win = 0\n",
    "    \n",
    "    # each district in each state\n",
    "    for d in df_state['D'].unique():\n",
    "        # determine the index of the candidate who spent the most money\n",
    "        idx_max_funds = df_state[df_state['D'] == d]['TOTAL_DISBURSEMENTS'].idxmax()\n",
    "        n_max_funds_win += results_pc_fs.loc[idx_max_funds, 'GE_WINNER_INDICATOR']\n",
    "    \n",
    "    n_max_funds_win_all[state] = n_max_funds_win\n",
    "\n",
    "win_loss_per_state = pd.DataFrame()\n",
    "\n",
    "# create dataframe with win and loss percentages for each state \n",
    "for state in states_and_districts():   \n",
    "    win_percent = (n_max_funds_win_all[state]/states_and_districts()[state])*100\n",
    "    loss_percent = (100 - win_percent)\n",
    "    \n",
    "    win_loss_per_state = win_loss_per_state.append({'State' : state,\n",
    "                                                    'Win_Percent' : win_percent,\n",
    "                                                    'Loss_Percent' : loss_percent},\n",
    "                                                  ignore_index=True)"
   ]
  },
  {
   "cell_type": "code",
   "execution_count": null,
   "metadata": {},
   "outputs": [],
   "source": [
    "print('In {} of states, all of the candidate who spent the most money also won the election.'\n",
    "      .format(win_loss_per_state\\\n",
    "              [win_loss_per_state['Win_Percent'] == 100]['Win_Percent'].count()))\n",
    "\n",
    "print('In {} of states, 80% of the candidate who spent the most money also won the election.'\n",
    "      .format(win_loss_per_state\\\n",
    "              [win_loss_per_state['Win_Percent'] >= 80]['Win_Percent'].count()))\n"
   ]
  },
  {
   "cell_type": "code",
   "execution_count": null,
   "metadata": {},
   "outputs": [],
   "source": [
    "fig, ax = plt.subplots(nrows=1, ncols=1, figsize=(10,10), sharex=True)\n",
    "fig.patch.set_facecolor('w')\n",
    "\n",
    "win_loss_per_state = win_loss_per_state.sort_values('Loss_Percent')\n",
    "\n",
    "ax.barh(win_loss_per_state['State'], win_loss_per_state['Win_Percent'],\n",
    "        color=palette[3], edgecolor='white', height=0.75,\n",
    "        label='Spent More and Won Election')\n",
    "\n",
    "ax.barh(win_loss_per_state['State'], win_loss_per_state['Loss_Percent'], \n",
    "        left=win_loss_per_state['Win_Percent'],\n",
    "        color=palette[7], edgecolor='white', height=0.75,\n",
    "        label='Spent Less and Won Election')\n",
    "\n",
    "ax.legend(ncol=2, bbox_to_anchor=(0.5, 1), loc='lower center', frameon=False)\n",
    "\n",
    "ax.spines['right'].set_visible(False)\n",
    "ax.spines['left'].set_visible(False)\n",
    "ax.spines['top'].set_visible(False)\n",
    "ax.spines['bottom'].set_visible(False)\n",
    "\n",
    "ax.set_ylim(-0.5, 49.5)\n",
    "\n",
    "ax.grid(axis='x')\n",
    "\n",
    "ax.set_xlabel('Percentage', fontdict=font)\n",
    "ax.set_ylabel('State', fontdict=font)\n",
    "ax.set_title('''\n",
    "    Chart 2:\n",
    "    Percentage of Candidates who Spent the Most\n",
    "    And Won\n",
    "    ''', fontdict=font, y=1.02)\n",
    "\n",
    "ax.invert_yaxis()\n",
    "\n",
    "plt.show();"
   ]
  },
  {
   "cell_type": "markdown",
   "metadata": {},
   "source": [
    "### Understanding Chart 2\n",
    "What does the graph above tell us about the candidates ability to raise and spent money and their ability to win the General Election for their district? \n",
    "\n",
    "Although at this time it's difficult to make causal claims about whether spending more money during an election cycle has a direct impact on their chances of winning the election, it is clear that the candidates who spent the most money during the 2016 election cycle ended up winning the vast majority of the time. For 29 states, all of the candidates who spent more ended up winning and in 43 states, 80% of the candidates who spent more ended up winning. \n",
    "\n",
    "There are likely many other confounding variables that haven't been taken into account but this chart is still fairly shocking and warrarnts further investigation."
   ]
  },
  {
   "cell_type": "code",
   "execution_count": null,
   "metadata": {},
   "outputs": [],
   "source": [
    "fig, ax = plt.subplots(nrows=1, ncols=1, figsize=(10,10), sharex=True)\n",
    "fig.patch.set_facecolor('w')\n",
    "\n",
    "won_ge = results_pc_fs[(results_pc_fs['GENERAL_%'].notnull()) &\n",
    "                       (results_pc_fs['GE_WINNER_INDICATOR'] == 1)]\n",
    "lost_ge = results_pc_fs[(results_pc_fs['GENERAL_%'].notnull()) &\n",
    "                       (results_pc_fs['GE_WINNER_INDICATOR'] == 0)]\n",
    "\n",
    "won = ax.scatter(x=won_ge['TOTAL_DISBURSEMENTS'], y=won_ge['GENERAL_VOTES'],\n",
    "                 c=[palette[3]], s=15);\n",
    "lost = ax.scatter(x=lost_ge['TOTAL_DISBURSEMENTS'], y=lost_ge['GENERAL_VOTES'],\n",
    "                  c=[palette[7]], s=15);\n",
    "\n",
    "# sns.scatterplot(x=results_pc_fs['TOTAL_DISBURSEMENTS'], y=results_pc_fs['GENERAL_VOTES'],\n",
    "#                hue=results_pc_fs['GE_WINNER_INDICATOR'], legend=False)\n",
    "\n",
    "ax.legend((won,lost), ('Won', 'Lost'), ncol=2, bbox_to_anchor=(0.5, 1), \n",
    "          loc='lower center', frameon=False)\n",
    "\n",
    "ax.spines['right'].set_visible(False)\n",
    "ax.spines['left'].set_visible(False)\n",
    "ax.spines['top'].set_visible(False)\n",
    "ax.spines['bottom'].set_visible(False)\n",
    "\n",
    "ax.grid(True, axis='both')\n",
    "\n",
    "# turn off scientific notation\n",
    "ax.ticklabel_format(style='plain')\n",
    "\n",
    "ax.set_xlabel('Total Disbursements ($)', fontdict=font)\n",
    "ax.set_ylabel('Total General Election Votes', fontdict=font)\n",
    "ax.set_title('''\n",
    "    Chart 3:\n",
    "    Total Disbursements \n",
    "    vs \n",
    "    Total General Election Votes\n",
    "    ''', fontdict=font, y=1.02)\n",
    "\n",
    "plt.show()"
   ]
  },
  {
   "cell_type": "code",
   "execution_count": null,
   "metadata": {},
   "outputs": [],
   "source": [
    "for m in range(1000000,11000000, 1000000):\n",
    "    n_mil_won = results_pc_fs[results_pc_fs['TOTAL_DISBURSEMENTS'] >= m]\\\n",
    "            ['GE_WINNER_INDICATOR'].sum()\n",
    "    n_mil = results_pc_fs[results_pc_fs['TOTAL_DISBURSEMENTS'] >= m].shape[0]\n",
    "    print('{p}% of candidates who spent over ${m:,}, won their election.'.format(\n",
    "                p=round(100*n_mil_won/n_mil,2), m=m))"
   ]
  },
  {
   "cell_type": "markdown",
   "metadata": {},
   "source": [
    "### Understanding Chart 3\n",
    "The orange dots, which represent the candidates that won in the general election appear to cluster above the green dots which represent the candidates that lost in the general election. This makes sense since the winners of the general election need higher vote counts in order to win their election.\n",
    "\n",
    "The other observation is that those candidates who spent over $1M tend to win at quite a high rate (77.61\\%). And from what we saw in Chart 2 above, we see a similar trend: those candidates who spent more, tend the win their election. \n",
    "\n",
    "Again, we still can't definitively say anything about there being a causal relationship between a candidate spending money during an election and them winning that election, but we are starting to tease out a trend. "
   ]
  },
  {
   "cell_type": "code",
   "execution_count": null,
   "metadata": {},
   "outputs": [],
   "source": [
    "fig, ax = plt.subplots(nrows=1, ncols=1, figsize=(10,10), sharex=True)\n",
    "fig.patch.set_facecolor('w')\n",
    "\n",
    "corr = results_pc_fs.drop('D', axis=1).corr()\n",
    "\n",
    "# Generate a mask for the upper triangle\n",
    "mask = np.zeros_like(corr, dtype=np.bool)\n",
    "mask[np.triu_indices_from(mask)] = True\n",
    "\n",
    "sns.heatmap(corr, mask=mask, cmap=cmap);\n",
    "\n",
    "ax.set_title('''\n",
    "    Chart 4:\n",
    "    Correlation Matrix  \n",
    "    Disbursements and General Election Results\n",
    "    ''', fontdict=font, y=1.02)\n",
    "\n",
    "plt.show()"
   ]
  },
  {
   "cell_type": "markdown",
   "metadata": {},
   "source": [
    "### Understanding Chart 4\n",
    "The chart above is close look at the correlation between the different numerical columns representing how a candidate and their committee raised money and their election results. It appears that a majority of the financial columns have no bearing on how well the candidate did in the election, represented by the orange to red colored squares. \n",
    "\n",
    "There appears to be a strong correlation between total disbursements and operating expenditures. This makes sense since operating expeditures represents the vast majority of where the candidates would spent their money (from FEC: 'day-to-day expenditures for items such as rent, overhead, administration, personnel, equipment, travel, advertising and fundraising'). There also appears to be about moderate correlation between total disbursements and general election winner indictor. The fact that there appears to be some correlation doesn't seem too suprising given the analysis we've performed above. \n",
    "\n",
    "Lastly, there also appears to be a strong correlation between incumbent and general election winner indictor. This means that most candidates running for re-election tend to win. "
   ]
  },
  {
   "cell_type": "code",
   "execution_count": null,
   "metadata": {},
   "outputs": [],
   "source": [
    "fig, ax = plt.subplots(nrows=1, ncols=1, figsize=(10,10), sharex=True)\n",
    "fig.patch.set_facecolor('w')\n",
    "\n",
    "corr = results_pc_fr.drop('D', axis=1).corr()\n",
    "\n",
    "# Generate a mask for the upper triangle\n",
    "mask = np.zeros_like(corr, dtype=np.bool)\n",
    "mask[np.triu_indices_from(mask)] = True\n",
    "\n",
    "sns.heatmap(corr, mask=mask, cmap=cmap);\n",
    "\n",
    "ax.set_title('''\n",
    "    Chart 5:\n",
    "    Correlation Matrix  \n",
    "    Receipts and General Election Results\n",
    "    ''', fontdict=font, y=1.02)\n",
    "\n",
    "plt.show()"
   ]
  },
  {
   "cell_type": "markdown",
   "metadata": {},
   "source": [
    "### Understanding Chart 5\n",
    "This is another correlation matrix, similar to the one above however this time we are looking at the relationship between where the candidates and their committess received their funding from. There appears to be a strong and moderately strong correlation between individual itemized contributions and total receipts and other political committee contributions and total receipts respectively. This implies that a major source of funding for campaigns come from individuals who donate more than \\\\$200 (donations greater than $200 must be itemized, see [link](https://www.fec.gov/help-candidates-and-committees/filing-reports/individual-contributions/) for more details) and from other political committees (see [link](https://www.fec.gov/help-candidates-and-committees/filing-reports/pacs-other-political-committee-contributions/) for more details)."
   ]
  },
  {
   "cell_type": "code",
   "execution_count": null,
   "metadata": {},
   "outputs": [],
   "source": [
    "fcp_per_state = pd.DataFrame()\n",
    "\n",
    "for state in states_and_districts():\n",
    "    df_temp = pd.DataFrame({'STATE' : [state]})\n",
    "    \n",
    "    for fr in funds_raised[:-1]:\n",
    "        fr_col = fr.replace('_period', '').upper()\n",
    "        fcp = 100*results_pc_fr[results_pc_fr['STATE_ABBREVIATION'] == state][fr_col].sum()/\\\n",
    "                results_pc_fr[results_pc_fr['STATE_ABBREVIATION'] == state]\\\n",
    "                                                ['TOTAL_RECEIPTS'].sum()        \n",
    "        \n",
    "        df_temp = pd.concat([df_temp, pd.DataFrame({fr_col : [fcp]})], axis=1)\n",
    "    \n",
    "    fcp_per_state = pd.concat([fcp_per_state, df_temp])\n",
    "        "
   ]
  },
  {
   "cell_type": "code",
   "execution_count": null,
   "metadata": {},
   "outputs": [],
   "source": [
    "fig, ax = plt.subplots(nrows=1, ncols=1, figsize=(10,10), sharex=True)\n",
    "fig.patch.set_facecolor('w')\n",
    "\n",
    "# only include contribution columns \n",
    "# (exclude 'Transfers from other authorized committes', 'loans made by candidates',\n",
    "# 'other loans', 'offsets to operating expenditures', and 'other receipts')\n",
    "cat_names = []\n",
    "for fr in funds_raised[:5]:\n",
    "    cat_names.append(fr.replace('_period', '').upper())\n",
    "    \n",
    "state_list = []\n",
    "for st in states_and_districts():\n",
    "    state_list.append(st)\n",
    "\n",
    "data = fcp_per_state[cat_names].values\n",
    "data_cum = data.cumsum(axis=1)\n",
    "category_colors = plt.get_cmap(cmap)(np.linspace(0.15, 0.85, data.shape[1]))\n",
    "\n",
    "for i, (colname, color) in enumerate(zip(cat_names, category_colors)):\n",
    "        widths = data[:, i]\n",
    "        starts = data_cum[:, i] - widths\n",
    "        ax.barh(state_list, widths, left=starts, height=0.75,\n",
    "                label=colname, color=color)\n",
    "\n",
    "ax.legend(ncol=2, bbox_to_anchor=(0.5, 1), loc='lower center', frameon=False)\n",
    "\n",
    "ax.set_ylim(-0.5, 49.5)\n",
    "ax.invert_yaxis()\n",
    "        \n",
    "ax.spines['right'].set_visible(False)\n",
    "ax.spines['left'].set_visible(False)\n",
    "ax.spines['top'].set_visible(False)\n",
    "ax.spines['bottom'].set_visible(False)\n",
    "\n",
    "ax.set_xlabel('Percentage', fontdict=font)\n",
    "ax.set_ylabel('State', fontdict=font)\n",
    "ax.set_title('''\n",
    "    Chart 6:\n",
    "    Contributions to Candidates\n",
    "    ''', fontdict=font, y=1.1)\n",
    "\n",
    "ax.grid(axis='x')\n",
    "\n",
    "plt.show();"
   ]
  },
  {
   "cell_type": "markdown",
   "metadata": {},
   "source": [
    "### Understanding Chart 6 \n",
    "This chart comfirms what we discovered in the previous slide which is that a majority of funding for most campaigns come in the form of individual itemized contributions ($200 or more) and from other political committees (PACS, other candidates, etc). "
   ]
  },
  {
   "cell_type": "code",
   "execution_count": null,
   "metadata": {},
   "outputs": [],
   "source": []
  },
  {
   "cell_type": "markdown",
   "metadata": {},
   "source": [
    "## Wrap Up \n",
    "This analysis looked at the available Principal Committees and their finances for all of the candidates who ran in the 2016 House of Representative elections. The question that was posed at the beginning of the analysis was, do the campaigns that spend the most money duing an election cycle end up winning the general election? \n",
    "\n",
    "The answer appears to be yes. This doesn't mean that this is always the case or that the correlation is particularly strong but the analysis show there appears to be some kind of relationship money spent and election results. There are surely other factors and confounding variables involved such as whether or not the candidate was an incumbent or what the political leaning of the district in question looks like, however this analysis ultimately sparks in me a desire to keep digging. \n",
    "\n",
    "This will be considered version 1. There are a lot more questions and other avenues through which to analyze the affect money has on election results and I intend to explore those further in the months to come. Here are a few thoughts and ideas I would like to explore:\n",
    "* Perform a more in depth analysis of the Primary Election \n",
    "* Perform a similar analysis for other years \n",
    "* Perform a similar analysis for Senate and Presidential races\n",
    "* Include other political committees in my analysis such as Joint Committees, PACs and Super PACs\n",
    "* Create a Machine Learning algorith to predict the winners for upcoming elections"
   ]
  },
  {
   "cell_type": "code",
   "execution_count": null,
   "metadata": {},
   "outputs": [],
   "source": []
  }
 ],
 "metadata": {
  "kernelspec": {
   "display_name": "Python 3",
   "language": "python",
   "name": "python3"
  },
  "language_info": {
   "codemirror_mode": {
    "name": "ipython",
    "version": 3
   },
   "file_extension": ".py",
   "mimetype": "text/x-python",
   "name": "python",
   "nbconvert_exporter": "python",
   "pygments_lexer": "ipython3",
   "version": "3.7.3"
  }
 },
 "nbformat": 4,
 "nbformat_minor": 2
}
